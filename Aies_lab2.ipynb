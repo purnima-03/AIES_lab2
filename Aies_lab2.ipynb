{
  "nbformat": 4,
  "nbformat_minor": 0,
  "metadata": {
    "colab": {
      "name": "Aies_lab2.ipynb",
      "provenance": []
    },
    "kernelspec": {
      "name": "python3",
      "display_name": "Python 3"
    }
  },
  "cells": [
    {
      "cell_type": "markdown",
      "metadata": {
        "id": "jiFlzZ8Bbhn1"
      },
      "source": [
        "## AI in Enterprise\n",
        "## Lab2\n",
        "\n",
        "---\n",
        "\n",
        "\n",
        "## Purnima Yadav\n",
        "## 100800499"
      ]
    },
    {
      "cell_type": "code",
      "metadata": {
        "id": "GwwBOvlqbsa4"
      },
      "source": [
        "x=55\n",
        "y=343"
      ],
      "execution_count": 1,
      "outputs": []
    },
    {
      "cell_type": "code",
      "metadata": {
        "colab": {
          "base_uri": "https://localhost:8080/"
        },
        "id": "zb9rkagBbx5W",
        "outputId": "e5831a37-b13d-4274-88dc-be56b928effd"
      },
      "source": [
        "print(x+y)\n",
        "print(x-y)\n",
        "print(x*y)\n",
        "print(x/y)"
      ],
      "execution_count": 2,
      "outputs": [
        {
          "output_type": "stream",
          "text": [
            "398\n",
            "-288\n",
            "18865\n",
            "0.16034985422740525\n"
          ],
          "name": "stdout"
        }
      ]
    },
    {
      "cell_type": "code",
      "metadata": {
        "id": "pfTRA3uNb2z2"
      },
      "source": [
        ""
      ],
      "execution_count": null,
      "outputs": []
    }
  ]
}